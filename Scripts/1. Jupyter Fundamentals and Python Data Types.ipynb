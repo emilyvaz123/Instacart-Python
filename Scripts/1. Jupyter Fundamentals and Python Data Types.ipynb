{
 "cells": [
  {
   "cell_type": "markdown",
   "id": "461ad634",
   "metadata": {},
   "source": [
    "# 01. Importing libraries "
   ]
  },
  {
   "cell_type": "code",
   "execution_count": 2,
   "id": "5f6095ef",
   "metadata": {},
   "outputs": [],
   "source": [
    "# Import libraries\n",
    "import pandas as pd\n",
    "import numpy as np\n",
    "import os\n"
   ]
  },
  {
   "cell_type": "markdown",
   "id": "e7959de1",
   "metadata": {},
   "source": [
    "# Working With Python Data Types"
   ]
  },
  {
   "cell_type": "markdown",
   "id": "160378c5",
   "metadata": {},
   "source": [
    "#Question 1: Code 3 different ways of reaching a result of 100 by adding or subtracting numeric variables."
   ]
  },
  {
   "cell_type": "code",
   "execution_count": 22,
   "id": "3b908979",
   "metadata": {},
   "outputs": [],
   "source": [
    "x = 50 "
   ]
  },
  {
   "cell_type": "code",
   "execution_count": 33,
   "id": "478a72d9",
   "metadata": {},
   "outputs": [
    {
     "data": {
      "text/plain": [
       "100"
      ]
     },
     "execution_count": 33,
     "metadata": {},
     "output_type": "execute_result"
    }
   ],
   "source": [
    "50+x"
   ]
  },
  {
   "cell_type": "code",
   "execution_count": 24,
   "id": "1479ea45",
   "metadata": {},
   "outputs": [],
   "source": [
    "y = 50 "
   ]
  },
  {
   "cell_type": "code",
   "execution_count": 25,
   "id": "da2c535e",
   "metadata": {},
   "outputs": [
    {
     "data": {
      "text/plain": [
       "100"
      ]
     },
     "execution_count": 25,
     "metadata": {},
     "output_type": "execute_result"
    }
   ],
   "source": [
    "x+y"
   ]
  },
  {
   "cell_type": "code",
   "execution_count": 27,
   "id": "2c920086",
   "metadata": {},
   "outputs": [],
   "source": [
    "z=100"
   ]
  },
  {
   "cell_type": "code",
   "execution_count": 28,
   "id": "f734e1e4",
   "metadata": {},
   "outputs": [],
   "source": [
    "h=200"
   ]
  },
  {
   "cell_type": "code",
   "execution_count": 29,
   "id": "628989ea",
   "metadata": {},
   "outputs": [
    {
     "data": {
      "text/plain": [
       "100"
      ]
     },
     "execution_count": 29,
     "metadata": {},
     "output_type": "execute_result"
    }
   ],
   "source": [
    "h-z"
   ]
  },
  {
   "cell_type": "markdown",
   "id": "749f8b37",
   "metadata": {},
   "source": [
    "#Question 2: Code 2 floating-point variables and divide them by each other."
   ]
  },
  {
   "cell_type": "code",
   "execution_count": 30,
   "id": "93438e68",
   "metadata": {},
   "outputs": [],
   "source": [
    "a=5.67\n",
    "b=7.76"
   ]
  },
  {
   "cell_type": "code",
   "execution_count": 31,
   "id": "04d59387",
   "metadata": {},
   "outputs": [
    {
     "data": {
      "text/plain": [
       "float"
      ]
     },
     "execution_count": 31,
     "metadata": {},
     "output_type": "execute_result"
    }
   ],
   "source": [
    "type(a)"
   ]
  },
  {
   "cell_type": "code",
   "execution_count": 32,
   "id": "cf77cdf3",
   "metadata": {},
   "outputs": [
    {
     "data": {
      "text/plain": [
       "0.7306701030927835"
      ]
     },
     "execution_count": 32,
     "metadata": {},
     "output_type": "execute_result"
    }
   ],
   "source": [
    "a/b"
   ]
  },
  {
   "cell_type": "markdown",
   "id": "9a0a60f6",
   "metadata": {},
   "source": [
    "#Question 3: Construct a short word made of separate strings (you’ll need to concatenate some strings!)."
   ]
  },
  {
   "cell_type": "code",
   "execution_count": 41,
   "id": "a5e34eea",
   "metadata": {},
   "outputs": [],
   "source": [
    "h= 'h'\n",
    "q = 'e'\n",
    "j= 'l'\n",
    "k= 'o'"
   ]
  },
  {
   "cell_type": "code",
   "execution_count": 42,
   "id": "92ad7b62",
   "metadata": {},
   "outputs": [
    {
     "data": {
      "text/plain": [
       "'hello'"
      ]
     },
     "execution_count": 42,
     "metadata": {},
     "output_type": "execute_result"
    }
   ],
   "source": [
    "h+q+j+j+k"
   ]
  },
  {
   "cell_type": "markdown",
   "id": "088defc4",
   "metadata": {},
   "source": [
    "#Question 4: Construct 2 short sentences made of separate strings."
   ]
  },
  {
   "cell_type": "code",
   "execution_count": 36,
   "id": "91af1b0f",
   "metadata": {},
   "outputs": [],
   "source": [
    "c= 'Hello'\n",
    "d= 'my' \n",
    "e= 'name' \n",
    "f= 'is' \n",
    "g= 'Emily'"
   ]
  },
  {
   "cell_type": "code",
   "execution_count": 37,
   "id": "bbb99a07",
   "metadata": {},
   "outputs": [
    {
     "data": {
      "text/plain": [
       "'HellomynameisEmily'"
      ]
     },
     "execution_count": 37,
     "metadata": {},
     "output_type": "execute_result"
    }
   ],
   "source": [
    "c+d+e+f+g"
   ]
  },
  {
   "cell_type": "code",
   "execution_count": 43,
   "id": "d0a18283",
   "metadata": {},
   "outputs": [],
   "source": [
    "l= 'What'\n",
    "m= 'your'"
   ]
  },
  {
   "cell_type": "code",
   "execution_count": 44,
   "id": "102fdabd",
   "metadata": {},
   "outputs": [
    {
     "data": {
      "text/plain": [
       "'HelloWhatisyourname'"
      ]
     },
     "execution_count": 44,
     "metadata": {},
     "output_type": "execute_result"
    }
   ],
   "source": [
    "c+l+f+m+e"
   ]
  },
  {
   "cell_type": "code",
   "execution_count": null,
   "id": "7c825863",
   "metadata": {},
   "outputs": [],
   "source": []
  }
 ],
 "metadata": {
  "kernelspec": {
   "display_name": "Python 3 (ipykernel)",
   "language": "python",
   "name": "python3"
  },
  "language_info": {
   "codemirror_mode": {
    "name": "ipython",
    "version": 3
   },
   "file_extension": ".py",
   "mimetype": "text/x-python",
   "name": "python",
   "nbconvert_exporter": "python",
   "pygments_lexer": "ipython3",
   "version": "3.9.12"
  }
 },
 "nbformat": 4,
 "nbformat_minor": 5
}
